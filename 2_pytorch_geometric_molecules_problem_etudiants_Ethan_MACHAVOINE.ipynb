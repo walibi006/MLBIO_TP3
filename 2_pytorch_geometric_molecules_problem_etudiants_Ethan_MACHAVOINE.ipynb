{
  "cells": [
    {
      "cell_type": "markdown",
      "metadata": {},
      "source": [
        "Ethan MACHAVOINE"
      ]
    },
    {
      "cell_type": "markdown",
      "metadata": {
        "id": "f-5bYlDLL31Y",
        "outputId": "d3ad9389-0dd7-4464-ce61-2f11bd2e915b"
      },
      "source": [
        "##  Pytorch geometric\n",
        "\n",
        "Pytorch geometric is a pytorch package to train Graph Neural Networks.\n",
        "\n",
        "One \"simple\" architecture is the Graph Convolutional Network (kipf et al)\n",
        "\n",
        "references:\n",
        "- http://tkipf.github.io/graph-convolutional-networks/\n",
        "- https://proceedings.neurips.cc/paper/2015/hash/f9be311e65d81a9ad8150a60844bb94c-Abstract.html\n",
        "- https://arxiv.org/abs/1609.02907\n"
      ]
    },
    {
      "cell_type": "markdown",
      "metadata": {
        "id": "UUMvBxxuWXG4"
      },
      "source": [
        "Install pytorch geometric : https://pytorch-geometric.readthedocs.io/en/latest/"
      ]
    },
    {
      "cell_type": "code",
      "execution_count": 1,
      "metadata": {
        "id": "sHrzuqi7Mj2O"
      },
      "outputs": [],
      "source": [
        "from torch_geometric.data import Data\n",
        "import torch\n",
        "import rdkit\n",
        "import pandas as pd"
      ]
    },
    {
      "cell_type": "markdown",
      "metadata": {
        "id": "Q6bXT9FWWXG6"
      },
      "source": [
        "Simple graphs are manipulated with the torch_geometric.data.Data class : https://pytorch-geometric.readthedocs.io/en/latest/modules/data.html#torch_geometric.data.Data\n",
        "\n",
        "The constructor takes a collection a tensor representing the nodes and a tensor representing the edges.\n",
        "\n",
        "Edges are represented by a 2D tensor (cf example here : https://pytorch-geometric.readthedocs.io/en/latest/notes/introduction.html) where each columns represents an edge.\n",
        "\n",
        "\n",
        "Create a simple undirected Graph with three nodes where node 1 is connected to node 2 and 3.\n",
        "Specify the node values to be 1, 2, 3"
      ]
    },
    {
      "cell_type": "code",
      "execution_count": 2,
      "metadata": {
        "id": "PHn3Y5SkWXG8"
      },
      "outputs": [
        {
          "name": "stdout",
          "output_type": "stream",
          "text": [
            "Data(x=[3, 1], edge_index=[2, 2])\n"
          ]
        }
      ],
      "source": [
        "edge_index = torch.tensor([[0, 1], [0, 2]], dtype=torch.long)\n",
        "\n",
        "x = torch.tensor([[1], [2], [3]], dtype=torch.float)\n",
        "\n",
        "graph_data = Data(x=x, edge_index=edge_index)\n",
        "\n",
        "print(graph_data)"
      ]
    },
    {
      "cell_type": "markdown",
      "metadata": {
        "id": "clynGmCNNrCF"
      },
      "source": [
        "# 1. Explore dataset in Pytorch_geometric\n",
        "\n",
        "\n",
        "To better understand molecule and graph, we will load and explore one of the molecule datasets that come from the pytorch_geometric library.\n",
        "\n",
        "1. Load the HIV dataset from the torch_geometric.datasets.MoleculeNet module.\n"
      ]
    },
    {
      "cell_type": "code",
      "execution_count": 3,
      "metadata": {
        "id": "tzbY2RjgOQdo"
      },
      "outputs": [],
      "source": [
        "from torch_geometric.datasets import MoleculeNet\n",
        "\n",
        "dataset = MoleculeNet(root='data', name='HIV')"
      ]
    },
    {
      "cell_type": "markdown",
      "metadata": {
        "id": "PMJfbFG2WXG9"
      },
      "source": [
        "\n",
        "2. How many graphs are there in this dataset ? Print out the number of features and the number of classes for this dataset."
      ]
    },
    {
      "cell_type": "code",
      "execution_count": 4,
      "metadata": {
        "id": "53u0fhbFWXG-"
      },
      "outputs": [
        {
          "name": "stdout",
          "output_type": "stream",
          "text": [
            "Number of graphs in the dataset: 41127\n",
            "Number of features in the dataset: 9\n",
            "Number of classes in the dataset: 2\n"
          ]
        }
      ],
      "source": [
        "num_graphs = len(dataset)\n",
        "num_features = dataset.num_features\n",
        "num_classes = dataset.num_classes\n",
        "\n",
        "print(f\"Number of graphs in the dataset: {num_graphs}\")\n",
        "print(f\"Number of features in the dataset: {num_features}\")\n",
        "print(f\"Number of classes in the dataset: {num_classes}\")"
      ]
    },
    {
      "cell_type": "markdown",
      "metadata": {
        "id": "38afm3ObWXG-"
      },
      "source": [
        "3. Get the first graph in this dataset. Print out the number of nodes, the number of edges, the number of features and  the adjency matrix of this graph. This graph is undirected or not ?"
      ]
    },
    {
      "cell_type": "code",
      "execution_count": 5,
      "metadata": {
        "id": "61YCHLYEWXG_"
      },
      "outputs": [
        {
          "name": "stdout",
          "output_type": "stream",
          "text": [
            "Number of nodes in the first graph: 19\n",
            "Number of edges in the first graph: 40\n",
            "Number of features in the first graph: 9\n",
            "Adjacency matrix of the first graph:\n",
            "tensor([[0., 1., 0., 0., 0., 0., 0., 0., 0., 0., 0., 0., 0., 0., 0., 0., 0., 0.,\n",
            "         0.],\n",
            "        [1., 0., 1., 0., 0., 0., 0., 0., 0., 0., 0., 0., 0., 0., 0., 0., 0., 0.,\n",
            "         0.],\n",
            "        [0., 1., 0., 1., 0., 0., 0., 0., 0., 1., 0., 0., 0., 0., 0., 0., 0., 0.,\n",
            "         0.],\n",
            "        [0., 0., 1., 0., 1., 0., 0., 0., 0., 0., 0., 0., 0., 0., 0., 0., 0., 0.,\n",
            "         0.],\n",
            "        [0., 0., 0., 1., 0., 1., 0., 0., 0., 0., 1., 0., 0., 0., 0., 0., 0., 0.,\n",
            "         1.],\n",
            "        [0., 0., 0., 0., 1., 0., 1., 0., 0., 0., 0., 0., 0., 0., 0., 0., 0., 0.,\n",
            "         0.],\n",
            "        [0., 0., 0., 0., 0., 1., 0., 1., 0., 1., 0., 0., 0., 0., 0., 0., 0., 0.,\n",
            "         0.],\n",
            "        [0., 0., 0., 0., 0., 0., 1., 0., 1., 0., 0., 0., 0., 0., 0., 0., 0., 0.,\n",
            "         0.],\n",
            "        [0., 0., 0., 0., 0., 0., 0., 1., 0., 0., 0., 0., 0., 0., 0., 0., 0., 0.,\n",
            "         0.],\n",
            "        [0., 0., 1., 0., 0., 0., 1., 0., 0., 0., 0., 0., 0., 0., 0., 0., 0., 0.,\n",
            "         0.],\n",
            "        [0., 0., 0., 0., 1., 0., 0., 0., 0., 0., 0., 1., 0., 0., 0., 0., 0., 0.,\n",
            "         0.],\n",
            "        [0., 0., 0., 0., 0., 0., 0., 0., 0., 0., 1., 0., 1., 0., 1., 0., 0., 0.,\n",
            "         0.],\n",
            "        [0., 0., 0., 0., 0., 0., 0., 0., 0., 0., 0., 1., 0., 1., 0., 0., 0., 0.,\n",
            "         0.],\n",
            "        [0., 0., 0., 0., 0., 0., 0., 0., 0., 0., 0., 0., 1., 0., 0., 0., 0., 0.,\n",
            "         0.],\n",
            "        [0., 0., 0., 0., 0., 0., 0., 0., 0., 0., 0., 1., 0., 0., 0., 1., 0., 0.,\n",
            "         0.],\n",
            "        [0., 0., 0., 0., 0., 0., 0., 0., 0., 0., 0., 0., 0., 0., 1., 0., 1., 0.,\n",
            "         1.],\n",
            "        [0., 0., 0., 0., 0., 0., 0., 0., 0., 0., 0., 0., 0., 0., 0., 1., 0., 1.,\n",
            "         0.],\n",
            "        [0., 0., 0., 0., 0., 0., 0., 0., 0., 0., 0., 0., 0., 0., 0., 0., 1., 0.,\n",
            "         0.],\n",
            "        [0., 0., 0., 0., 1., 0., 0., 0., 0., 0., 0., 0., 0., 0., 0., 1., 0., 0.,\n",
            "         0.]])\n",
            "Is the graph undirected ? : True\n"
          ]
        }
      ],
      "source": [
        "first_graph = dataset[0]\n",
        "\n",
        "num_nodes = first_graph.num_nodes\n",
        "num_edges = first_graph.num_edges\n",
        "num_features = first_graph.num_features\n",
        "\n",
        "adjacency_matrix = torch.zeros((num_nodes, num_nodes))\n",
        "edge_index = first_graph.edge_index.t().cpu().numpy()\n",
        "for edge in edge_index:\n",
        "    adjacency_matrix[edge[0], edge[1]] = 1\n",
        "    adjacency_matrix[edge[1], edge[0]] = 1\n",
        "\n",
        "is_undirected = (adjacency_matrix == adjacency_matrix.T).all()\n",
        "\n",
        "print(f\"Number of nodes in the first graph: {num_nodes}\")\n",
        "print(f\"Number of edges in the first graph: {num_edges}\")\n",
        "print(f\"Number of features in the first graph: {num_features}\")\n",
        "print(f\"Adjacency matrix of the first graph:\\n{adjacency_matrix}\")\n",
        "print(f\"Is the graph undirected ? : {is_undirected}\")"
      ]
    },
    {
      "cell_type": "markdown",
      "metadata": {
        "id": "NyQUnzcTWXG_"
      },
      "source": [
        "4. Draw this graph using networkx (it's already installed with pytorch_geometric) and torch_geometric.utils.to_networkx.\n"
      ]
    },
    {
      "cell_type": "code",
      "execution_count": 6,
      "metadata": {
        "id": "SuqnN7yeWXHA"
      },
      "outputs": [
        {
          "data": {
            "image/png": "[encoded data removed]",
            "text/plain": [
              "<Figure size 640x480 with 1 Axes>"
            ]
          },
          "metadata": {},
          "output_type": "display_data"
        }
      ],
      "source": [
        "import networkx as nx\n",
        "import matplotlib.pyplot as plt\n",
        "from torch_geometric.utils import to_networkx\n",
        "\n",
        "networkx_graph = to_networkx(first_graph, to_undirected=True)\n",
        "\n",
        "pos = nx.spring_layout(networkx_graph, seed=42)\n",
        "nx.draw(networkx_graph, pos, with_labels=True, node_color='skyblue', node_size=300, font_size=10)\n",
        "plt.title(\"First Graph in the HIV Dataset\")\n",
        "plt.show()"
      ]
    },
    {
      "cell_type": "markdown",
      "metadata": {
        "id": "W0dbGDEOWXHA"
      },
      "source": [
        "5. (Optional) Get the SMILES string of this molecule and draw its structure with Rdkit. The structure of this molecule looks like the graph that you've drawn in 4. ?"
      ]
    },
    {
      "cell_type": "code",
      "execution_count": null,
      "metadata": {
        "id": "BZ_Ij6KKWXHA"
      },
      "outputs": [],
      "source": []
    },
    {
      "cell_type": "markdown",
      "metadata": {
        "id": "a5QV7llwgk6v"
      },
      "source": [
        "# EX 2. Convert a molecule to graph\n",
        "\n",
        "A single graph in PyTorch Geometric is described by an instance of the torch_geometric.data.Data class. So, in order to use graph neural network in pytorch_geometric,  we need convert molecules to torch_geometric.data.Data object.\n",
        "\n",
        "\n",
        "The **mol2graph(mol, y, smiles)** function below allows us to convert a molecule (rdkit format) to graph (a torch_geometric.data.Data object).\n",
        "\n",
        "\n",
        "Just load the tab"
      ]
    },
    {
      "cell_type": "code",
      "execution_count": 7,
      "metadata": {
        "id": "Qd4weA8-fn3X"
      },
      "outputs": [],
      "source": [
        "x_map = {\n",
        "    'atomic_num':\n",
        "    list(range(0, 119)),\n",
        "    'chirality': [\n",
        "        'CHI_UNSPECIFIED',\n",
        "        'CHI_TETRAHEDRAL_CW',\n",
        "        'CHI_TETRAHEDRAL_CCW',\n",
        "        'CHI_OTHER',\n",
        "    ],\n",
        "    'degree':\n",
        "    list(range(0, 11)),\n",
        "    'formal_charge':\n",
        "    list(range(-5, 7)),\n",
        "    'num_hs':\n",
        "    list(range(0, 9)),\n",
        "    'num_radical_electrons':\n",
        "    list(range(0, 5)),\n",
        "    'hybridization': [\n",
        "        'UNSPECIFIED',\n",
        "        'S',\n",
        "        'SP',\n",
        "        'SP2',\n",
        "        'SP3',\n",
        "        'SP3D',\n",
        "        'SP3D2',\n",
        "        'OTHER',\n",
        "    ],\n",
        "    'is_aromatic': [False, True],\n",
        "    'is_in_ring': [False, True],\n",
        "}\n",
        "\n",
        "\n",
        "\n",
        "\n",
        "e_map = {\n",
        "    'bond_type': [\n",
        "        'misc',\n",
        "        'SINGLE',\n",
        "        'DOUBLE',\n",
        "        'TRIPLE',\n",
        "        'AROMATIC',\n",
        "    ],\n",
        "    'stereo': [\n",
        "        'STEREONONE',\n",
        "        'STEREOZ',\n",
        "        'STEREOE',\n",
        "        'STEREOCIS',\n",
        "        'STEREOTRANS',\n",
        "        'STEREOANY',\n",
        "    ],\n",
        "    'is_conjugated': [False, True],\n",
        "}\n",
        "\n",
        "\n",
        "def mol2graph(mol, y, smiles):\n",
        "\n",
        "    from torch_geometric.data import Data\n",
        "    import torch\n",
        "    import torch_geometric\n",
        "\n",
        "\n",
        "    xs = []\n",
        "\n",
        "    for atom in mol.GetAtoms():\n",
        "\n",
        "        x = []\n",
        "\n",
        "        x.append(x_map['atomic_num'].index(atom.GetAtomicNum()))\n",
        "        # The atomic number is the number of protons in the nucleus of an atom\n",
        "\n",
        "        x.append(x_map['chirality'].index(str(atom.GetChiralTag())))\n",
        "\n",
        "        x.append(x_map['degree'].index(atom.GetTotalDegree()))\n",
        "        # the number of carbon atoms that this atom is attached to\n",
        "\n",
        "        x.append(x_map['formal_charge'].index(atom.GetFormalCharge()))\n",
        "        x.append(x_map['num_hs'].index(atom.GetTotalNumHs()))\n",
        "        x.append(x_map['num_radical_electrons'].index(\n",
        "            atom.GetNumRadicalElectrons()))\n",
        "        x.append(x_map['hybridization'].index(str(atom.GetHybridization())))\n",
        "        x.append(x_map['is_aromatic'].index(atom.GetIsAromatic()))\n",
        "        x.append(x_map['is_in_ring'].index(atom.IsInRing()))\n",
        "\n",
        "        xs.append(x)\n",
        "\n",
        "\n",
        "\n",
        "    x = torch.tensor(xs, dtype=torch.float).view(-1, 9)\n",
        "\n",
        "    #print(\"x\", x)\n",
        "\n",
        "    edge_indices, edge_attrs = [], []\n",
        "    for bond in mol.GetBonds():\n",
        "        i = bond.GetBeginAtomIdx()\n",
        "        j = bond.GetEndAtomIdx()\n",
        "\n",
        "        e = []\n",
        "        e.append(e_map['bond_type'].index(str(bond.GetBondType())))\n",
        "        e.append(e_map['stereo'].index(str(bond.GetStereo())))\n",
        "        e.append(e_map['is_conjugated'].index(bond.GetIsConjugated()))\n",
        "\n",
        "        edge_indices += [[i, j], [j, i]]\n",
        "        edge_attrs += [e, e]\n",
        "\n",
        "    edge_index = torch.tensor(edge_indices)\n",
        "    edge_index = edge_index.t().to(torch.long).view(2, -1)\n",
        "    edge_attr = torch.tensor(edge_attrs, dtype=torch.long).view(-1, 3)\n",
        "\n",
        "    # Sort indices.\n",
        "    y = torch.tensor(y, dtype=torch.long)\n",
        "\n",
        "    if edge_index.numel() > 0:\n",
        "        perm = (edge_index[0] * x.size(0) + edge_index[1]).argsort()\n",
        "        edge_index, edge_attr = edge_index[:, perm], edge_attr[perm]\n",
        "\n",
        "    data = Data(x=x, edge_index=edge_index, edge_attr=edge_attr, y = y, smiles=smiles)\n",
        "\n",
        "    return data\n"
      ]
    },
    {
      "cell_type": "markdown",
      "metadata": {
        "id": "gvPjMDsXWXHC"
      },
      "source": [
        "1. Use this function to convert a acetic acid molecule to graph. This function takes three parametes as inputs: rdkit molecule (mol), label of graph (here molecule is active or not) (y) and SMILES string of molecule.  Known that the SMILES string of acetic acid is \"CC(O)=O\" and you can choose in this case the label y = 1.\n",
        "\n",
        "\n",
        "2. How many features are there in the nodes ? What are they ? Print out the \"edge_index\" of the acetic acide graph.\n"
      ]
    },
    {
      "cell_type": "code",
      "execution_count": 8,
      "metadata": {
        "id": "jWDK8zIzmUtE"
      },
      "outputs": [
        {
          "name": "stdout",
          "output_type": "stream",
          "text": [
            "Number of features in the acetic acid graph nodes: 9\n",
            "Edge index of the acetic acid graph:\n",
            "tensor([[0, 1, 1, 1, 2, 3],\n",
            "        [1, 0, 2, 3, 1, 1]])\n"
          ]
        }
      ],
      "source": [
        "smiles_acetic_acid = \"CC(O)=O\"\n",
        "mol = rdkit.Chem.MolFromSmiles(smiles_acetic_acid)\n",
        "\n",
        "acetic_acid_graph = mol2graph(mol, y=1, smiles=smiles_acetic_acid)\n",
        "\n",
        "num_node_features_aa = acetic_acid_graph.num_node_features\n",
        "edge_index_aa = acetic_acid_graph.edge_index\n",
        "\n",
        "print(f\"Number of features in the acetic acid graph nodes: {num_node_features_aa}\")\n",
        "print(f\"Edge index of the acetic acid graph:\\n{edge_index_aa}\")"
      ]
    },
    {
      "cell_type": "markdown",
      "metadata": {
        "id": "i58VGkbqxdgk"
      },
      "source": [
        "# Build a Graph Neural Network (GNN)\n",
        "\n",
        " In the next exercises of this notebook, we will try to build a graph network to predict the ability of molecules to inhibit a protein known as ERK2. For this purpose, we will use compounds that are derived from the DUD-E database."
      ]
    },
    {
      "cell_type": "markdown",
      "metadata": {
        "id": "uWlmiF0yn1oV"
      },
      "source": [
        "# Ex 3: Create dataset\n",
        "\n",
        "The file named \"active_data.csv\" consists of more than 300 active and decoy molecules. The dataset is made of two components:\n",
        "\n",
        "-  Chemical structural data on compounds: each chemical compound is described under the SMILES format.\n",
        "\n",
        "-  ERK2-activity : it corresponds to the screening result evaluating the activity (1) or the inactivity (0) of the chemical compound.\n",
        "\n",
        "\n",
        "1. Read the \"active_data.csv\" file into a pandas dataframe. Are there how many active molecules and how many decoy molecules?\n",
        "\n",
        "\n",
        "2. From this dataframe, create a list of RDKit molecules.\n",
        "\n",
        "\n",
        "3. Using the mol2graph(mol, y, smiles) function to convert the list of Rdkit molecules to a list of torch_geometric.data.Data objects. You should call this list as \"list_data\".\n",
        "\n",
        "\n",
        "4. Plot the histogram to see the ratio between the  compounds active and inactive."
      ]
    },
    {
      "cell_type": "code",
      "execution_count": 9,
      "metadata": {
        "id": "9uDVldMnmp4X"
      },
      "outputs": [
        {
          "name": "stdout",
          "output_type": "stream",
          "text": [
            "Number of active molecules in the dataset: 79\n",
            "Number of decoy molecules in the dataset: 300\n"
          ]
        }
      ],
      "source": [
        "df = pd.read_csv(\"data/active_data.csv\")\n",
        "print(f\"Number of active molecules in the dataset: {len(df[df['is_active'] == 1])}\")\n",
        "print(f\"Number of decoy molecules in the dataset: {len(df[df['is_active'] == 0])}\")"
      ]
    },
    {
      "cell_type": "code",
      "execution_count": 10,
      "metadata": {},
      "outputs": [],
      "source": [
        "rdkit_mols = [rdkit.Chem.MolFromSmiles(smiles) for smiles in df['SMILES']]"
      ]
    },
    {
      "cell_type": "code",
      "execution_count": 11,
      "metadata": {},
      "outputs": [],
      "source": [
        "list_data = [mol2graph(mol, y, smiles) for mol, y, smiles in zip(rdkit_mols, df['is_active'], df['SMILES'])]"
      ]
    },
    {
      "cell_type": "code",
      "execution_count": 12,
      "metadata": {},
      "outputs": [
        {
          "data": {
            "image/png": "[encoded data removed]",
            "text/plain": [
              "<Figure size 640x480 with 1 Axes>"
            ]
          },
          "metadata": {},
          "output_type": "display_data"
        }
      ],
      "source": [
        "plt.hist(df['is_active'], bins=2)\n",
        "plt.xlabel(\"Activity\")\n",
        "plt.ylabel(\"Number of molecules\")\n",
        "plt.title(\"Histogram of the classes in the dataset\")\n",
        "plt.show()"
      ]
    },
    {
      "cell_type": "markdown",
      "metadata": {
        "id": "WAyN3trZ5kum"
      },
      "source": [
        "# EX 4. Create training set and test set\n",
        "In this exercise, we will prepare a training set and a test set.\n",
        "\n",
        "1. Shuffle the \"list_data\" list that you've created above.\n",
        "\n",
        "2. Take the first 300 molecules for \"train_dataset\" and the rest for \"test_dataset\".\n"
      ]
    },
    {
      "cell_type": "code",
      "execution_count": 13,
      "metadata": {
        "id": "N5BbkGyk5yBA"
      },
      "outputs": [],
      "source": [
        "import random\n",
        "\n",
        "random.seed(123)\n",
        "random.shuffle(list_data)\n",
        "\n",
        "train_dataset = list_data[:300]\n",
        "test_dataset = list_data[300:]"
      ]
    },
    {
      "cell_type": "markdown",
      "metadata": {
        "id": "lRfuRXtiIHvo"
      },
      "source": [
        "# Ex5: Create DataLoader\n",
        "\n",
        "Usually a graph classification task trains on a lot of graphs, and it will be very inefficient to use only one graph at a time when training the model.\n",
        "\n",
        "Pytorch Geometric opts for building a single giant graph from a list of graphs by stacking adjacency matrices in a diagonal fashion and node that target features are simply concatenated in the note dimension.\n",
        "\n",
        "A single giant graph is automatically built from a list of graphs with DataLoader.\n",
        "\n",
        "1. Create **train_loader** and **test_loader** from **train_dataset** and **test_dataset** by using the torch_geometric.data.DataLoader class.\n",
        "\n",
        "\n",
        "2. Get a batch from **train_loader**. Print out the number of graphs and data of this batch."
      ]
    },
    {
      "cell_type": "code",
      "execution_count": 14,
      "metadata": {
        "id": "EHiIeHZ761f_"
      },
      "outputs": [
        {
          "name": "stderr",
          "output_type": "stream",
          "text": [
            "/home/ethan/Documents/ml_bio/tp3/.venv/lib/python3.11/site-packages/torch_geometric/deprecation.py:22: UserWarning: 'data.DataLoader' is deprecated, use 'loader.DataLoader' instead\n",
            "  warnings.warn(out)\n"
          ]
        }
      ],
      "source": [
        "from torch_geometric.data import DataLoader\n",
        "\n",
        "train_loader = DataLoader(train_dataset, batch_size=64, shuffle=True)\n",
        "\n",
        "test_loader = DataLoader(test_dataset, batch_size=64, shuffle=True)"
      ]
    },
    {
      "cell_type": "code",
      "execution_count": 15,
      "metadata": {},
      "outputs": [
        {
          "name": "stdout",
          "output_type": "stream",
          "text": [
            "Number of graphs in the batch: 64\n",
            "Data of the batch:\n",
            "Data(x=[28, 9], edge_index=[2, 62], edge_attr=[62, 3], y=[1], smiles='C[C@@H](c1ccccc1)NC(=O)c2cc(c[nH]2)c3c(cn[nH]3)c4cccc(c4)Cl')\n",
            "Data(x=[23, 9], edge_index=[2, 50], edge_attr=[50, 3], y=[1], smiles='c1c(cc(c(c1O)O)O)[C@H]2[C@@H](C(=O)c3c(cc(cc3O2)O)O)O')\n",
            "Data(x=[20, 9], edge_index=[2, 42], edge_attr=[42, 3], y=[1], smiles='CNC(=O)NNC(=O)c1cc2c([nH]c1=O)CCCC2=O')\n",
            "Data(x=[18, 9], edge_index=[2, 38], edge_attr=[38, 3], y=[1], smiles='c1cc(nc(c1)Sc2[nH]c(=O)cc(n2)N)C(=O)[O-]')\n",
            "Data(x=[29, 9], edge_index=[2, 66], edge_attr=[66, 3], y=[1], smiles='c1ccc2c(c1)CCN(C2)C(=O)c3cc(c[nH]3)c4c(cn[nH]4)c5cccc(c5)Cl')\n",
            "Data(x=[19, 9], edge_index=[2, 40], edge_attr=[40, 3], y=[1], smiles='c1cc(c(cc1Sc2nccc(n2)[O-])Cl)/C(=N\\O)/N')\n",
            "Data(x=[21, 9], edge_index=[2, 44], edge_attr=[44, 3], y=[1], smiles='CC(C)(C(=O)N)NC(=O)N1[C@@H]2CCCC[C@H]2C[C@@H]1C(=O)[O-]')\n",
            "Data(x=[21, 9], edge_index=[2, 46], edge_attr=[46, 3], y=[1], smiles='c1cc(c(cc1N)c2nnnn2c3ccc(cc3Cl)Cl)Br')\n",
            "Data(x=[19, 9], edge_index=[2, 40], edge_attr=[40, 3], y=[1], smiles='c1c(cnc(c1Cl)Sc2[nH]c(=O)cc(n2)N)C(=O)[O-]')\n",
            "Data(x=[21, 9], edge_index=[2, 46], edge_attr=[46, 3], y=[1], smiles='c1ccc2c(c1)C3(C(=C(SC(=C3C#N)N)N)C#N)C(=O)N2')\n",
            "Data(x=[36, 9], edge_index=[2, 78], edge_attr=[78, 3], y=[1], smiles='CNC(=O)Nc1ccc(cn1)CNc2c(cnn2C)C(=O)Nc3ccc4c(c3)OC(C(O4)(F)F)(F)F')\n",
            "Data(x=[20, 9], edge_index=[2, 42], edge_attr=[42, 3], y=[1], smiles='Cc1c(sc(n1)N)C(=O)NC2(CCC(CC2)C)C(=O)[O-]')\n",
            "Data(x=[33, 9], edge_index=[2, 72], edge_attr=[72, 3], y=[1], smiles='Cc1ccccc1Nc2ncc(c(n2)c3cc([nH]c3)C(=O)N[C@H](CO)c4cccc(c4)Cl)C')\n",
            "Data(x=[21, 9], edge_index=[2, 44], edge_attr=[44, 3], y=[1], smiles='Cc1cc(c(cc1N)N)/N=N/c2ccc(cc2)S(=O)(=O)[O-]')\n",
            "Data(x=[23, 9], edge_index=[2, 50], edge_attr=[50, 3], y=[1], smiles='Cc1ccc(cc1)c2n[nH]c(=S)n2/N=C/c3ccc(c(c3)O)O')\n",
            "Data(x=[26, 9], edge_index=[2, 58], edge_attr=[58, 3], y=[1], smiles='CC(=O)[C@]1(CC[C@H]2[C@@]1(CC[C@@H]3[C@@H]2C[C@@H]([C@@]4([C@@]3(CC[C@@H](C4)O)C)O)O)C)O')\n",
            "Data(x=[21, 9], edge_index=[2, 44], edge_attr=[44, 3], y=[1], smiles='CN(c1cccc(c1)C#N)C(=O)c2cc(cnc2NN)Br')\n",
            "Data(x=[26, 9], edge_index=[2, 58], edge_attr=[58, 3], y=[1], smiles='c1cc2c(cc1Cl)[C@]3(c4c(c(=O)cc(o4)CO)OC(=C3C#N)N)C(=O)N2')\n",
            "Data(x=[26, 9], edge_index=[2, 58], edge_attr=[58, 3], y=[1], smiles='C[C@@]12CC[C@H](C[C@H]1CC[C@@H]3[C@@H]2C(=O)C[C@@]4([C@@H]3CC[C@@]4([C@@H](CO)O)O)C)O')\n",
            "Data(x=[26, 9], edge_index=[2, 58], edge_attr=[58, 3], y=[1], smiles='Cc1c(sc2c1C(=O)N[C@@H](N2)c3cccc(c3)OC(=O)c4cccs4)C')\n",
            "Data(x=[32, 9], edge_index=[2, 70], edge_attr=[70, 3], y=[1], smiles='Cc1cccc(c1)[C@@H](CO)NC(=O)c2cc(c[nH]2)c3c(cnc(n3)Nc4ccccc4)C')\n",
            "Data(x=[20, 9], edge_index=[2, 42], edge_attr=[42, 3], y=[1], smiles='[H]/N=C\\1/C(=N\\Nc2ccc(cc2)C(=O)[O-])/C(=NN1C)N')\n",
            "Data(x=[15, 9], edge_index=[2, 32], edge_attr=[32, 3], y=[1], smiles='c1c(cnc(c1N)NCc2[n-]nnn2)Br')\n",
            "Data(x=[21, 9], edge_index=[2, 42], edge_attr=[42, 3], y=[1], smiles='C1COCCNC(=S)NCCOCCOCCNC(=S)N1')\n",
            "Data(x=[27, 9], edge_index=[2, 58], edge_attr=[58, 3], y=[1], smiles='CN1C(=O)N[C@@H]([C@@H]([C@]1(C(F)(F)F)O)C(=O)c2cccs2)c3ccccc3Cl')\n",
            "Data(x=[25, 9], edge_index=[2, 56], edge_attr=[56, 3], y=[1], smiles='Cc1c(sc2c1c(=O)[nH]c(n2)[C@H](C)Sc3[nH]c4ccc(cc4n3)Cl)C')\n",
            "Data(x=[21, 9], edge_index=[2, 46], edge_attr=[46, 3], y=[1], smiles='c1cc(c(cc1NC(=O)c2cc3c(s2)CCC3)[N+](=O)[O-])N')\n",
            "Data(x=[17, 9], edge_index=[2, 36], edge_attr=[36, 3], y=[1], smiles='c1c(nc(nc1N)S[C@@H]2CS(=O)(=O)C[C@@H]2O)N')\n",
            "Data(x=[21, 9], edge_index=[2, 48], edge_attr=[48, 3], y=[1], smiles='c1c(cc(c2c1OCO2)Br)c3nc4c(c(n3)NN)CCC4')\n",
            "Data(x=[20, 9], edge_index=[2, 44], edge_attr=[44, 3], y=[1], smiles='c1cnc([nH]c1=O)Sc2cc3c(cc2N)OCC(=O)N3')\n",
            "Data(x=[21, 9], edge_index=[2, 46], edge_attr=[46, 3], y=[1], smiles='c1c(cc(cc1N2CCO[C@@H]3[C@@H]2CCCC3)S(=O)(=O)N)N')\n",
            "Data(x=[25, 9], edge_index=[2, 54], edge_attr=[54, 3], y=[1], smiles='c1cc2c(cc1N)OCCOc3ccc(cc3OCCOCCO2)N')\n",
            "Data(x=[26, 9], edge_index=[2, 58], edge_attr=[58, 3], y=[1], smiles='c1cc(cc(c1)Cl)c2cn[nH]c2c3cc([nH]c3)C(=O)NCC4CCCO4')\n",
            "Data(x=[19, 9], edge_index=[2, 40], edge_attr=[40, 3], y=[1], smiles='C[C@H]1CN(CCCO1)c2ccc(cc2N)S(=O)(=O)N')\n",
            "Data(x=[29, 9], edge_index=[2, 64], edge_attr=[64, 3], y=[1], smiles='c1ccc(cc1)[C@@H](CO)NC(=O)c2cc(c[nH]2)c3c(cn[nH]3)c4cccc(c4)Cl')\n",
            "Data(x=[25, 9], edge_index=[2, 54], edge_attr=[54, 3], y=[1], smiles='c1ccc(c(c1)/C=N/N=C\\2/NC(=O)[C@@H](S2)Cc3ccc(cc3Cl)Cl)O')\n",
            "Data(x=[20, 9], edge_index=[2, 42], edge_attr=[42, 3], y=[1], smiles='c1c(c(cc(c1N2CCCC[C@@H]2C(=O)N)F)N)C(=O)[O-]')\n",
            "Data(x=[15, 9], edge_index=[2, 30], edge_attr=[30, 3], y=[1], smiles='c1cc(c(cc1S(=O)(=O)N)Br)S(=O)(=O)N')\n",
            "Data(x=[25, 9], edge_index=[2, 56], edge_attr=[56, 3], y=[1], smiles='Cc1ccc(s1)[C@H]2c3c([nH]c(=O)[nH]c3=O)NC4=C2C(=O)CC(C4)(C)C')\n",
            "Data(x=[24, 9], edge_index=[2, 52], edge_attr=[52, 3], y=[1], smiles='COc1ccc(c(c1O)Cl)[C@H]2C(=C(OC3=C2C(=O)CCC3)N)C#N')\n",
            "Data(x=[30, 9], edge_index=[2, 66], edge_attr=[66, 3], y=[1], smiles='c1ccc(c(c1)C(CO)NC(=O)c2cc(c[nH]2)c3c(cn[nH]3)c4cccc(c4)Cl)F')\n",
            "Data(x=[18, 9], edge_index=[2, 38], edge_attr=[38, 3], y=[1], smiles='c1c2c(cc(c1NC(=O)CC(=O)[O-])Br)[nH]c(=O)[nH]2')\n",
            "Data(x=[20, 9], edge_index=[2, 42], edge_attr=[42, 3], y=[1], smiles='c1ccc(c(c1)N)O[C@H]2[C@H]([C@@H]([C@@H]([C@H](O2)C(=O)[O-])O)O)O')\n",
            "Data(x=[30, 9], edge_index=[2, 66], edge_attr=[66, 3], y=[1], smiles='c1cc(cc(c1)Cl)c2cn[nH]c2c3cc([nH]c3)C(=O)NC(CO)c4ccc(cc4)Cl')\n",
            "Data(x=[18, 9], edge_index=[2, 38], edge_attr=[38, 3], y=[1], smiles='c1cc(c(cc1N[C@H]2CCS(=O)(=O)C2)C(=O)[O-])N')\n",
            "Data(x=[23, 9], edge_index=[2, 50], edge_attr=[50, 3], y=[1], smiles='CC1(C2=C(c3ccccc3N1)C(=S)C(=C(C(=O)N)C(=O)N)S2)C')\n",
            "Data(x=[22, 9], edge_index=[2, 50], edge_attr=[50, 3], y=[1], smiles='c1ccc2c(c1)C3=C(CCNC(=O)C3=N2)c4c([nH]c(n4)N)O')\n",
            "Data(x=[25, 9], edge_index=[2, 56], edge_attr=[56, 3], y=[1], smiles='CSC1=NC(=O)[C@@H]2C(=N1)[N-]C(=C([C@]23c4ccccc4NC3=O)C#N)[NH3+]')\n",
            "Data(x=[18, 9], edge_index=[2, 38], edge_attr=[38, 3], y=[1], smiles='Cn\\1cc([nH]/c1=N\\C(=O)c2cc(ccc2Cl)N)[O-]')\n",
            "Data(x=[29, 9], edge_index=[2, 64], edge_attr=[64, 3], y=[1], smiles='c1cc(cc(c1)Cl)c2cn[nH]c2c3cc([nH]c3)C(=O)NCc4ccc(c(c4)F)F')\n",
            "Data(x=[19, 9], edge_index=[2, 42], edge_attr=[42, 3], y=[1], smiles='Cc1ccc(cc1)C2=C[C@H](N=N2)[C@H]3NN[C@@H](N3N)S')\n",
            "Data(x=[31, 9], edge_index=[2, 68], edge_attr=[68, 3], y=[1], smiles='c1cc(cc(c1)Cl)c2cn[nH]c2c3cc([nH]c3)C(=O)NC(CO)c4cc(cc(c4)Cl)Cl')\n",
            "Data(x=[25, 9], edge_index=[2, 56], edge_attr=[56, 3], y=[1], smiles='C[C@@H]1CC2=C(C(=O)C1)[C@@]3(C(=O)c4cccc(c4[C@@H]([C@@]3(CC2)O)O)O)O')\n",
            "Data(x=[20, 9], edge_index=[2, 44], edge_attr=[44, 3], y=[1], smiles='c1ccc2c(c1)C(=O)[C@@]3([C@@]2(OC(=C3C(=O)[O-])CO)O)O')\n",
            "Data(x=[17, 9], edge_index=[2, 36], edge_attr=[36, 3], y=[1], smiles='CC1(N=C(N=C(N1c2ccc(cc2)Br)N)N)C')\n",
            "Data(x=[22, 9], edge_index=[2, 46], edge_attr=[46, 3], y=[1], smiles='c1cc(ccc1C#N)C(=O)NNC(=O)c2ccc(cc2O)Br')\n",
            "Data(x=[30, 9], edge_index=[2, 66], edge_attr=[66, 3], y=[1], smiles='c1cc(cc(c1)Cl)c2cn[nH]c2c3cc([nH]c3)C(=O)NC(CO)c4cccc(c4)F')\n",
            "Data(x=[27, 9], edge_index=[2, 60], edge_attr=[60, 3], y=[1], smiles='Cc1c2c(n(n1)c3ccccc3)OC(=C([C@H]2c4ccc(c(c4)Cl)Cl)C#N)N')\n",
            "Data(x=[27, 9], edge_index=[2, 60], edge_attr=[60, 3], y=[1], smiles='C[C@@]12CC[C@@H]3c4ccc(cc4/C(=N/OCC(=O)[O-])/C[C@@H]3[C@@H]1C[C@H]([C@@H]2O)O)O')\n",
            "Data(x=[20, 9], edge_index=[2, 44], edge_attr=[44, 3], y=[1], smiles='C1CC[C@H]2[C@@H](C1)C[C@@H](N2C(=O)c3nc([nH]n3)N)C(=O)[O-]')\n",
            "Data(x=[19, 9], edge_index=[2, 40], edge_attr=[40, 3], y=[1], smiles='Cc1c(c2c(cn1)[C@](OC2)(C(F)(F)[P@](=O)(O)[O-])O)O')\n",
            "Data(x=[20, 9], edge_index=[2, 42], edge_attr=[42, 3], y=[1], smiles='CCOc1ccc(cc1S(=O)(=O)/N=c/2\\[nH]cc(s2)C)N')\n",
            "Data(x=[18, 9], edge_index=[2, 38], edge_attr=[38, 3], y=[1], smiles='Cc1cnc(s1)[N-]S(=O)(=O)c2ccc(c(c2)N)O')\n",
            "Data(x=[18, 9], edge_index=[2, 38], edge_attr=[38, 3], y=[1], smiles='Cc1c(cc(cc1Cl)S(=O)(=O)[N-]c2cc[nH]n2)N')\n"
          ]
        }
      ],
      "source": [
        "for batch in train_loader:\n",
        "\n",
        "    num_graphs = batch.num_graphs\n",
        "\n",
        "    data = batch.to_data_list()\n",
        "\n",
        "    print(f\"Number of graphs in the batch: {num_graphs}\")\n",
        "    print(\"Data of the batch:\")\n",
        "    for dt in data:\n",
        "        print(dt)\n",
        "\n",
        "    break"
      ]
    },
    {
      "cell_type": "markdown",
      "metadata": {
        "id": "hWtYDyqY3SQx"
      },
      "source": [
        "# Ex 6: Graph Neural Network Layer\n",
        "\n",
        " Let's try to test a graph neural network layer. This kind of layer is available on the pytorch_geometric.nn module. This layer's similar to Linear Layer (Multi-layer Perception Network) in deep learning.\n",
        "\n",
        "\n",
        " 1. Create an instance of the torch_geometric.nn. GCNConv class. You need choose two parameters: number of features and number of hidden layers.\n",
        "\n",
        "2. Apply it to the graph of acetic acid.\n",
        "\n",
        "\n",
        "3. What is the output ? its size ?\n"
      ]
    },
    {
      "cell_type": "code",
      "execution_count": 16,
      "metadata": {
        "id": "uwKtqlYI3Qw7"
      },
      "outputs": [],
      "source": [
        "smiles_acetic_acid = \"CC(O)=O\"\n",
        "mol_acetic_acid = rdkit.Chem.MolFromSmiles(smiles_acetic_acid)\n",
        "graph_acetic_acid = mol2graph(mol, y = 1, smiles = smiles_acetic_acid)"
      ]
    },
    {
      "cell_type": "code",
      "execution_count": 25,
      "metadata": {
        "id": "9XoXr9LaOGzf"
      },
      "outputs": [
        {
          "name": "stdout",
          "output_type": "stream",
          "text": [
            "Shape of the result: torch.Size([4, 16])\n",
            "Result: tensor([[ 1.7634,  4.4798,  4.3970,  3.5576,  0.8583, -3.2405, -3.3419,  1.2914,\n",
            "         -1.2074, -1.3044, -0.6101, -1.1157, -3.9692, -2.7490,  1.7768,  1.7135],\n",
            "        [ 2.7425,  7.0599,  7.0107,  5.1206,  0.3729, -5.3359, -5.0843,  2.1749,\n",
            "         -0.6378, -2.4771,  0.1289, -0.6299, -5.8752, -4.2281,  3.1051,  4.1242],\n",
            "        [ 1.6205,  4.4314,  4.6535,  3.1989,  0.0928, -3.6085, -3.2439,  1.5300,\n",
            "         -0.1385, -1.5643,  0.2099, -0.3761, -3.8678, -2.9029,  2.0333,  2.9110],\n",
            "        [ 1.4761,  4.3757,  4.7232,  2.8807, -0.0388, -3.5450, -3.2155,  1.7246,\n",
            "          0.2862, -1.6769,  0.4024, -0.0892, -3.5872, -2.8261,  2.2850,  3.3482]],\n",
            "       grad_fn=<AddBackward0>)\n"
          ]
        }
      ],
      "source": [
        "from torch_geometric.nn import GCNConv\n",
        "\n",
        "GCNConv_instance = GCNConv(in_channels=graph_acetic_acid.num_node_features, out_channels=16)\n",
        "\n",
        "result = GCNConv_instance(graph_acetic_acid.x, graph_acetic_acid.edge_index)\n",
        "\n",
        "print(f\"Shape of the result: {result.size()}\")\n",
        "print(f\"Result: {result}\")"
      ]
    },
    {
      "cell_type": "markdown",
      "metadata": {
        "id": "gjTreX5M65sC"
      },
      "source": [
        "# EX 7: global_mean_pool Layer\n",
        "\n",
        "As we've seen in the ex 6, the output of a GNN layer is a tensor with size (35, 16). However, for the graph classification task, the label of graph is just a scaler number. So, we need to aggregate node embeddings into a unified graph embedding (known as readout layer) before training a final classifier. Let's try it to see what the output of a global_mean_pool layer is.\n",
        "\n",
        "\n",
        "1. Pass the **out_GCN_layer** variable to the global_mean_pool function. Store the result in a variable named **out_GMP_layer**\n",
        "\n",
        "2. Print out the shape of **out_GMP_layer**.\n",
        "\n"
      ]
    },
    {
      "cell_type": "code",
      "execution_count": 27,
      "metadata": {
        "id": "m0-2aMh483Rc"
      },
      "outputs": [
        {
          "name": "stdout",
          "output_type": "stream",
          "text": [
            "tensor([[ 2.0433,  1.3291, -2.7300,  1.2116, -3.9114, -2.1570, -0.3065,  0.1321,\n",
            "          2.9693, -3.2962, -2.6915, -0.7889, -0.8275, -0.1420, -2.7927, -0.9191]],\n",
            "       grad_fn=<DivBackward0>)\n",
            "shape of output_GMP_layer  torch.Size([1, 16])\n"
          ]
        },
        {
          "name": "stderr",
          "output_type": "stream",
          "text": [
            "/home/ethan/Documents/ml_bio/tp3/.venv/lib/python3.11/site-packages/torch_geometric/deprecation.py:22: UserWarning: 'data.DataLoader' is deprecated, use 'loader.DataLoader' instead\n",
            "  warnings.warn(out)\n"
          ]
        }
      ],
      "source": [
        "from torch_geometric.nn import GCNConv\n",
        "from torch_geometric.nn import global_mean_pool\n",
        "\n",
        "# GMP mean Global mean pool\n",
        "data_for_test_GMP_layer = DataLoader([graph_acetic_acid], batch_size=1 )\n",
        "conv_test = GCNConv(9, 16)\n",
        "\n",
        "\n",
        "data_iterator = iter(data_for_test_GMP_layer)\n",
        "data = next(data_iterator)\n",
        "out_GCN_layer = conv_test(data.x, data.edge_index)\n",
        "\n",
        "#### TO DO #####\n",
        "out_GMP_layer = global_mean_pool(out_GCN_layer, data.batch)\n",
        "\n",
        "print(out_GMP_layer)\n",
        "print(\"shape of output_GMP_layer \", out_GMP_layer.shape)"
      ]
    },
    {
      "cell_type": "markdown",
      "metadata": {
        "id": "gVYBeplH7QEu"
      },
      "source": [
        "# EX 8: Building a graph network for graph classification task with Pytorch geometric\n",
        "\n",
        "\n",
        "In this exercise, we will create a network to classify if a molecule is active. This network consists of 4 layers:\n",
        "\n",
        "1. A graph convolution network layer conv1\n",
        "\n",
        "2. Another GCN layer conv2\n",
        "\n",
        "3. Another GCN layer conv3\n",
        "\n",
        "4. A torch_geometric.nn.global_mean_pool layer\n",
        "\n",
        "5. A linear layer\n",
        "\n",
        "Relu activation function is used after the two first layers.\n",
        "\n",
        "Complete the lines below (after #TODO) to finish the definition of this network.\n"
      ]
    },
    {
      "cell_type": "code",
      "execution_count": 28,
      "metadata": {
        "id": "wkU-LtEm43SI"
      },
      "outputs": [],
      "source": [
        "from torch_geometric.nn import GCNConv\n",
        "from torch_geometric.nn import global_mean_pool\n",
        "\n",
        "import torch\n",
        "import torch.nn.functional as F\n",
        "from torch.nn import Linear\n",
        "\n",
        "#### TODO\n",
        "n_features = 9\n",
        "\n",
        "\n",
        "\n",
        "class Net(torch.nn.Module):\n",
        "    def __init__(self):\n",
        "        super(Net, self).__init__()\n",
        "        torch.manual_seed(12)\n",
        "        self.conv1 = GCNConv(n_features, 8)\n",
        "        self.conv2 = GCNConv(8, 16)\n",
        "        self.conv3 = GCNConv(16, 32)\n",
        "\n",
        "        # TO DO\n",
        "        self.linear = Linear(32, 1)\n",
        "\n",
        "\n",
        "    def forward(self, x, edge_index, batch):\n",
        "\n",
        "\n",
        "        # 1. Obtain node embeddings\n",
        "        # First GCN layer\n",
        "        x = self.conv1(x, edge_index)\n",
        "        x = F.relu(x)\n",
        "\n",
        "        ## TODO\n",
        "        # Second GCN layer\n",
        "        x =  self.conv2(x, edge_index)\n",
        "        x =  F.relu(x)\n",
        "\n",
        "\n",
        "        # Third GCN layer\n",
        "        x = self.conv3(x, edge_index)\n",
        "\n",
        "\n",
        "        ### TODO#####\n",
        "        #2. REadout layer\n",
        "        x = global_mean_pool(x, batch)\n",
        "\n",
        "\n",
        "        # 3. Linear Layer\n",
        "        ## TO DO\n",
        "        x = self.linear(x)\n",
        "\n",
        "        return x"
      ]
    },
    {
      "cell_type": "markdown",
      "metadata": {
        "id": "PucPIEd5UTWn"
      },
      "source": [
        "# Ex 9: Create network\n",
        "\n",
        "\n",
        "1. Create the network then print out the model and look at it's text representation\n",
        "\n",
        "2. Define an optimizer. You should use the torch.optim.Adam class.\n",
        "\n",
        "3. Define a loss function. You should use the CrossEntropyLoss class.\n",
        "\n"
      ]
    },
    {
      "cell_type": "code",
      "execution_count": 29,
      "metadata": {
        "id": "ll1q9TLdUagf"
      },
      "outputs": [
        {
          "name": "stdout",
          "output_type": "stream",
          "text": [
            "Net(\n",
            "  (conv1): GCNConv(9, 8)\n",
            "  (conv2): GCNConv(8, 16)\n",
            "  (conv3): GCNConv(16, 32)\n",
            "  (linear): Linear(in_features=32, out_features=1, bias=True)\n",
            ")\n"
          ]
        }
      ],
      "source": [
        "model = Net()\n",
        "print( model)"
      ]
    },
    {
      "cell_type": "code",
      "execution_count": 30,
      "metadata": {
        "id": "KX1DzW1ErYJO"
      },
      "outputs": [],
      "source": [
        "optimizer = torch.optim.Adam(model.parameters(), lr=0.01)"
      ]
    },
    {
      "cell_type": "code",
      "execution_count": 32,
      "metadata": {},
      "outputs": [],
      "source": [
        "loss_fun = torch.nn.CrossEntropyLoss()"
      ]
    },
    {
      "cell_type": "markdown",
      "metadata": {
        "id": "ZhsGNksI7zVa"
      },
      "source": [
        "# Ex 10: Train model for an epoch\n",
        "\n",
        "Write a function named **train()** that allows us to train a model for an epoch.\n",
        "\n",
        "The tasks that the function should execute:\n",
        "\n",
        "\n",
        "0. Iterate in batches over the train_loader\n",
        "\n",
        "1. Perform a single forward pass\n",
        "\n",
        "2. Compute the loss\n",
        "\n",
        "3. Derive the gradient\n",
        "\n",
        "4. Update parameters\n",
        "\n",
        "5. Clearn gradients\n",
        "\n",
        "\n",
        "\n",
        "Complete the lines (with ?????) below to finish the function."
      ]
    },
    {
      "cell_type": "code",
      "execution_count": 50,
      "metadata": {
        "id": "xpjXAr8T7qFd"
      },
      "outputs": [],
      "source": [
        "def train():\n",
        "    model.train()\n",
        "\n",
        "    for data in train_loader:\n",
        "        # TODO ( )\n",
        "        #1.Forward pass\n",
        "        out = model(data.x, data.edge_index, data.batch).squeeze()\n",
        "        # 2. Compute the loss\n",
        "        loss = loss_fun(out, data.y.float())\n",
        "        # 3. Calculate the gradient\n",
        "        loss.backward()\n",
        "        #4. Update the parameters (weights)\n",
        "        optimizer.step()\n",
        "        #5. Clean gradients\n",
        "        optimizer.zero_grad()"
      ]
    },
    {
      "cell_type": "markdown",
      "metadata": {
        "id": "9k4VvLPX8sCA"
      },
      "source": [
        "# Ex 11: Test\n",
        "\n",
        "Similar to Ex9, write a function named **tes(loader)** that allows to compute the accuracy of the model on dataset \"loader\".\n",
        "\n",
        "The steps to calculate the accuracy of a classification model:\n",
        "\n",
        "1. Iterate in batches over the train_loader.\n",
        "\n",
        "2. Compute the output of the model\n",
        "\n",
        "3. Find the class with highest probability\n",
        "\n",
        "4. Count ground-truth labels\n",
        "\n",
        "5. Compute the accuracy\n",
        "\n",
        "\n",
        "Complete the lines (with ?????)  to finish the definition of this network."
      ]
    },
    {
      "cell_type": "code",
      "execution_count": 51,
      "metadata": {
        "id": "Hqf4QsUg8VUE"
      },
      "outputs": [],
      "source": [
        "def test(loader):\n",
        "     model.eval()\n",
        "\n",
        "     correct = 0\n",
        "     for data in loader:\n",
        "        ########### TODO ####\n",
        "        # output of the model\n",
        "        out =  model(data.x, data.edge_index, data.batch)\n",
        "        # Use the class with highest probability\n",
        "        pred = out.argmax(dim=1)\n",
        "\n",
        "        # Check against ground-truth labels\n",
        "        correct += int((pred == data.y).sum())\n",
        "\n",
        "     return correct / len(loader.dataset)"
      ]
    },
    {
      "cell_type": "markdown",
      "metadata": {
        "id": "-4gcODV_8vTs"
      },
      "source": [
        "# Ex 12: Training model\n",
        "\n",
        "Training model for 100 epoches.\n",
        "\n",
        "Calculate training accuracy for train_loader and test_loader by using the **train()** function and the **test(loader)** function\n"
      ]
    },
    {
      "cell_type": "code",
      "execution_count": 52,
      "metadata": {
        "id": "Si4ay8qM8Zl5"
      },
      "outputs": [],
      "source": [
        "for _ in range(100):\n",
        "    train()"
      ]
    },
    {
      "cell_type": "code",
      "execution_count": 53,
      "metadata": {
        "id": "TizuAt8s1hIV"
      },
      "outputs": [
        {
          "name": "stdout",
          "output_type": "stream",
          "text": [
            "Train accuracy: 0.8000, Test accuracy: 0.7595\n"
          ]
        }
      ],
      "source": [
        "train_acc = test(train_loader)\n",
        "test_acc = test(test_loader)\n",
        "\n",
        "print(f\"Train accuracy: {train_acc:.4f}, Test accuracy: {test_acc:.4f}\")"
      ]
    }
  ],
  "metadata": {
    "colab": {
      "provenance": []
    },
    "kernelspec": {
      "display_name": "Python 3 (ipykernel)",
      "language": "python",
      "name": "python3"
    },
    "language_info": {
      "codemirror_mode": {
        "name": "ipython",
        "version": 3
      },
      "file_extension": ".py",
      "mimetype": "text/x-python",
      "name": "python",
      "nbconvert_exporter": "python",
      "pygments_lexer": "ipython3",
      "version": "3.11.5"
    }
  },
  "nbformat": 4,
  "nbformat_minor": 0
}
